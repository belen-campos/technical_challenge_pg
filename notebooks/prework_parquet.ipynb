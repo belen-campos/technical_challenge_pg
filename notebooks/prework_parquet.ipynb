{
 "cells": [
  {
   "cell_type": "code",
   "execution_count": 3,
   "id": "84eebd22",
   "metadata": {},
   "outputs": [
    {
     "data": {
      "text/plain": [
       "True"
      ]
     },
     "execution_count": 3,
     "metadata": {},
     "output_type": "execute_result"
    }
   ],
   "source": [
    "import os\n",
    "import pandas as pd\n",
    "from pathlib import Path\n",
    "from dotenv import load_dotenv\n",
    "from sqlalchemy import create_engine, text\n",
    "\n",
    "# Cargar el archivo .env\n",
    "env_path = Path('..') / '.env'\n",
    "load_dotenv(dotenv_path=env_path)\n",
    "\n"
   ]
  },
  {
   "cell_type": "code",
   "execution_count": 4,
   "id": "817e7fbc",
   "metadata": {},
   "outputs": [
    {
     "name": "stdout",
     "output_type": "stream",
     "text": [
      "Tabla 'public_raw.raw_products' cargada correctamente\n",
      "Tabla 'public_raw.raw_users' cargada correctamente\n",
      "Tabla 'public_raw.raw_orders' cargada correctamente\n",
      "Tabla 'public_raw.raw_reviews' cargada correctamente\n"
     ]
    }
   ],
   "source": [
    "# Configuración de PostgreSQL igual que en docker-compose\n",
    "user = os.getenv('DB_USER')\n",
    "password = os.getenv('DB_PASSWORD')\n",
    "host = os.getenv('DB_HOST')\n",
    "port = os.getenv('DB_PORT')\n",
    "database = os.getenv('DB_NAME')\n",
    "schema = \"public_raw\"\n",
    "\n",
    "engine = create_engine(f\"postgresql+psycopg2://{user}:{password}@{host}:{port}/{database}\")\n",
    "\n",
    "# Crear el schema si no existe\n",
    "with engine.connect() as conn:\n",
    "    conn.execute(text(f\"CREATE SCHEMA IF NOT EXISTS {schema}\"))\n",
    "    conn.commit()\n",
    "\n",
    "# Carpeta con archivos parquet\n",
    "parquet_folder = Path('../data')\n",
    "\n",
    "for file in parquet_folder.iterdir():\n",
    "    # Leer parquet\n",
    "    df = pd.read_parquet(file)\n",
    "\n",
    "    # Guardar en PostgreSQL\n",
    "    table_name = \"raw_\" + file.stem  # nombre de la tabla igual al archivo\n",
    "    df.to_sql(table_name, engine, schema=schema, if_exists='replace', index=False)\n",
    "    print(f\"Tabla '{schema}.{table_name}' cargada correctamente\")\n"
   ]
  }
 ],
 "metadata": {
  "kernelspec": {
   "display_name": "env (3.10.9)",
   "language": "python",
   "name": "python3"
  },
  "language_info": {
   "codemirror_mode": {
    "name": "ipython",
    "version": 3
   },
   "file_extension": ".py",
   "mimetype": "text/x-python",
   "name": "python",
   "nbconvert_exporter": "python",
   "pygments_lexer": "ipython3",
   "version": "3.10.9"
  }
 },
 "nbformat": 4,
 "nbformat_minor": 5
}
